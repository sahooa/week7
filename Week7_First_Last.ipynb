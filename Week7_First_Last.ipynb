{
 "cells": [
  {
   "cell_type": "markdown",
   "metadata": {},
   "source": [
    "<h1> UCI - I&C SCI_X426.53 (Fall2017) </h1>\n",
    "**Course Instructors:** <br>\n",
    "Ted Pham (email:tedp@uci.edu) <br>\n",
    "William Henry  (will@henryanalytics.com)\n",
    "\n",
    "\n",
    "\n",
    "<h2>Week7 Assignment</h2>\n",
    "\n",
    "\n",
    "---\n",
    "This is an individual assignment, but feel free to exchange ideas on the forum.\n",
    "__Name:__  Your Name Here<br>\n",
    "__Email:__  peter_anteater@uci.edu   \n",
    "__Week:__   7\n",
    "\n",
    "__Due Time:__ Friday Dec 21 10am PST"
   ]
  },
  {
   "cell_type": "markdown",
   "metadata": {},
   "source": [
    "# Overview\n",
    "\n",
    "In this notebook, we will go over examples of running Spark and do some exercises\n",
    "    1. KDnuggets Tutorial\n",
    "    2. WordCount Exercise\n",
    "    3. K-means Example (Optional, will be posted Monday Dec 11)\n",
    "This notebook was tested on AWS EC2 jupyter interface using UCI AMI week7.\n",
    "\n",
    "\n"
   ]
  },
  {
   "cell_type": "markdown",
   "metadata": {},
   "source": [
    "# 0. Initialize Spark"
   ]
  },
  {
   "cell_type": "code",
   "execution_count": 1,
   "metadata": {
    "collapsed": true
   },
   "outputs": [],
   "source": [
    "#Import SparkContext from pyspark\n",
    "import re\n",
    "from pyspark import SparkContext\n",
    "sc = SparkContext()"
   ]
  },
  {
   "cell_type": "code",
   "execution_count": 2,
   "metadata": {},
   "outputs": [
    {
     "data": {
      "text/plain": [
       "[('a', 2), ('b', 1)]"
      ]
     },
     "execution_count": 2,
     "metadata": {},
     "output_type": "execute_result"
    }
   ],
   "source": [
    "# Try Week6 code\n",
    "from operator import add\n",
    "rdd1 = sc.parallelize([(\"a\",1),(\"b\",1),(\"a\",1)])\n",
    "sorted(rdd1.reduceByKey(add).collect())"
   ]
  },
  {
   "cell_type": "markdown",
   "metadata": {},
   "source": [
    "# 1. KDnuggets Spark Tutorial\n",
    "\n",
    "kdnuggets.com has an excellent tutorial on Spark and Python\n",
    "https://www.kdnuggets.com/2015/11/introduction-spark-python.html\n",
    "\n",
    "Due to copyrights, please read the tutorial and we follow along a slightly modified code here.\n",
    "\n",
    "Starting with downloading the daily_show_guests.csv. "
   ]
  },
  {
   "cell_type": "code",
   "execution_count": 10,
   "metadata": {},
   "outputs": [
    {
     "name": "stdout",
     "output_type": "stream",
     "text": [
      "  % Total    % Received % Xferd  Average Speed   Time    Time     Time  Current\n",
      "                                 Dload  Upload   Total   Spent    Left  Speed\n",
      "100  123k  100  123k    0     0   123k      0  0:00:01 --:--:--  0:00:01 1767k\n"
     ]
    }
   ],
   "source": [
    "!curl -L https://raw.githubusercontent.com/fivethirtyeight/data/master/daily-show-guests/daily_show_guests.csv -o daily.csv"
   ]
  },
  {
   "cell_type": "code",
   "execution_count": 11,
   "metadata": {},
   "outputs": [
    {
     "name": "stdout",
     "output_type": "stream",
     "text": [
      "YEAR,GoogleKnowlege_Occupation,Show,Group,Raw_Guest_List\r\n",
      "1999,actor,1/11/99,Acting,Michael J. Fox\r\n",
      "1999,Comedian,1/12/99,Comedy,Sandra Bernhard\r\n",
      "1999,television actress,1/13/99,Acting,Tracey Ullman\r\n",
      "1999,film actress,1/14/99,Acting,Gillian Anderson\r\n",
      "1999,actor,1/18/99,Acting,David Alan Grier\r\n",
      "1999,actor,1/19/99,Acting,William Baldwin\r\n",
      "1999,Singer-lyricist,1/20/99,Musician,Michael Stipe\r\n",
      "1999,model,1/21/99,Media,Carmen Electra\r\n",
      "1999,actor,1/25/99,Acting,Matthew Lillard\r\n"
     ]
    }
   ],
   "source": [
    "!head -10 daily.csv"
   ]
  },
  {
   "cell_type": "code",
   "execution_count": 12,
   "metadata": {},
   "outputs": [
    {
     "data": {
      "text/plain": [
       "['YEAR,GoogleKnowlege_Occupation,Show,Group,Raw_Guest_List',\n",
       " '1999,actor,1/11/99,Acting,Michael J. Fox',\n",
       " '1999,Comedian,1/12/99,Comedy,Sandra Bernhard',\n",
       " '1999,television actress,1/13/99,Acting,Tracey Ullman',\n",
       " '1999,film actress,1/14/99,Acting,Gillian Anderson']"
      ]
     },
     "execution_count": 12,
     "metadata": {},
     "output_type": "execute_result"
    }
   ],
   "source": [
    "#-get the first 5 elements from the raw RDD\n",
    "raw = sc.textFile(\"daily.csv\")\n",
    "raw.take(5)"
   ]
  },
  {
   "cell_type": "code",
   "execution_count": 13,
   "metadata": {},
   "outputs": [
    {
     "data": {
      "text/plain": [
       "[['YEAR', 'GoogleKnowlege_Occupation', 'Show', 'Group', 'Raw_Guest_List'],\n",
       " ['1999', 'actor', '1/11/99', 'Acting', 'Michael J. Fox'],\n",
       " ['1999', 'Comedian', '1/12/99', 'Comedy', 'Sandra Bernhard'],\n",
       " ['1999', 'television actress', '1/13/99', 'Acting', 'Tracey Ullman'],\n",
       " ['1999', 'film actress', '1/14/99', 'Acting', 'Gillian Anderson']]"
      ]
     },
     "execution_count": 13,
     "metadata": {},
     "output_type": "execute_result"
    }
   ],
   "source": [
    "#-split elements by commas\n",
    "daily = raw.map(lambda line: line.split(','))\n",
    "daily.take(5)"
   ]
  },
  {
   "cell_type": "code",
   "execution_count": 14,
   "metadata": {},
   "outputs": [
    {
     "name": "stdout",
     "output_type": "stream",
     "text": [
      "PythonRDD[23] at RDD at PythonRDD.scala:48\n"
     ]
    }
   ],
   "source": [
    "# Aggregate total count of visitors per year\n",
    "tally = daily.map(lambda x: (x[0], 1))\\\n",
    "             .reduceByKey(lambda x,y: x+y)\n",
    "print(tally)"
   ]
  },
  {
   "cell_type": "code",
   "execution_count": 15,
   "metadata": {},
   "outputs": [
    {
     "data": {
      "text/plain": [
       "[('YEAR', 1),\n",
       " ('2002', 159),\n",
       " ('2003', 166),\n",
       " ('2004', 164),\n",
       " ('2007', 141),\n",
       " ('2010', 165),\n",
       " ('2011', 163),\n",
       " ('2012', 164),\n",
       " ('2013', 166),\n",
       " ('2014', 163),\n",
       " ('2015', 100),\n",
       " ('1999', 166),\n",
       " ('2000', 169),\n",
       " ('2001', 157),\n",
       " ('2005', 162),\n",
       " ('2006', 161),\n",
       " ('2008', 164),\n",
       " ('2009', 163)]"
      ]
     },
     "execution_count": 15,
     "metadata": {},
     "output_type": "execute_result"
    }
   ],
   "source": [
    "# because Spark is lazy we need to perform an action on the RDD\n",
    "tally.take(tally.count())"
   ]
  },
  {
   "cell_type": "markdown",
   "metadata": {},
   "source": [
    "**Question 1 (5pts)**\n",
    "Sort the tally by year"
   ]
  },
  {
   "cell_type": "code",
   "execution_count": 16,
   "metadata": {},
   "outputs": [
    {
     "data": {
      "text/plain": [
       "PythonRDD[33] at RDD at PythonRDD.scala:48"
      ]
     },
     "execution_count": 16,
     "metadata": {},
     "output_type": "execute_result"
    }
   ],
   "source": [
    "#Student Code\n",
    "tally.sortByKey(0)"
   ]
  },
  {
   "cell_type": "code",
   "execution_count": 18,
   "metadata": {},
   "outputs": [
    {
     "data": {
      "text/plain": [
       "[('YEAR', 1),\n",
       " ('2002', 159),\n",
       " ('2003', 166),\n",
       " ('2004', 164),\n",
       " ('2007', 141),\n",
       " ('2010', 165),\n",
       " ('2011', 163),\n",
       " ('2012', 164),\n",
       " ('2013', 166),\n",
       " ('2014', 163)]"
      ]
     },
     "execution_count": 18,
     "metadata": {},
     "output_type": "execute_result"
    }
   ],
   "source": [
    "tally.take(10)"
   ]
  },
  {
   "cell_type": "code",
   "execution_count": 19,
   "metadata": {},
   "outputs": [
    {
     "data": {
      "text/plain": [
       "[('actor', 596),\n",
       " ('film actress', 21),\n",
       " ('model', 9),\n",
       " ('stand-up comedian', 44),\n",
       " ('actress', 271)]"
      ]
     },
     "execution_count": 19,
     "metadata": {},
     "output_type": "execute_result"
    }
   ],
   "source": [
    "#Filter out empty profession, make profession lowercase\n",
    "# and get profession count for the visitors\n",
    "filtered_daily = daily.filter(lambda line: line[1] != '') \\\n",
    "                      .map(lambda line: (line[1].lower(), 1))\\\n",
    "                      .reduceByKey(lambda x,y: x+y)\n",
    "        \n",
    "# get first 5 profession counts\n",
    "filtered_daily.take(5)"
   ]
  },
  {
   "cell_type": "markdown",
   "metadata": {},
   "source": [
    "**Question 2 (5pts)** Get all professions and counts\n",
    "\n"
   ]
  },
  {
   "cell_type": "code",
   "execution_count": 23,
   "metadata": {},
   "outputs": [
    {
     "name": "stdout",
     "output_type": "stream",
     "text": [
      "[('actor', 596), ('film actress', 21), ('model', 9), ('stand-up comedian', 44), ('actress', 271), ('television personality', 13), ('comic', 2), ('musician', 19), ('film actor', 19), ('journalist', 253), ('us senator', 50), ('vocalist', 2), ('film director', 24), ('singer', 23), ('muppet', 2), ('american television personality', 3), ('rapper', 10), ('football player', 1), ('former mayor of cincinatti', 2), ('businesswoman', 2), ('american politician', 8), ('radio personality', 3), ('commentator', 24), ('reality show contestant', 1), ('magician', 1), ('former u.s. representative', 7), ('former united states secretary of labor', 6), ('band', 2), ('american football quarterback', 3), ('diplomat', 10), ('white house sommunications director', 5), ('sportscaster', 4), ('television producer', 3), ('screenwriter', 6), ('essayist', 2), ('minister', 4), ('host', 1), ('assistant secretary of defense', 1), ('former assistant to the president for communications', 3), ('basketball player', 12), ('editor', 19), ('former vice president', 5), ('soccer player', 3), ('critic', 1), ('political figure', 9), ('correspondent', 6), ('foreign policy expert', 1), ('political psychologist', 1), ('former united states secretary of state', 6), ('designer', 1), ('former us representative', 7), ('analyst', 2), ('former govrnor of masssachusetts', 1), ('trumpeter', 2), ('former mayor of new york', 2), ('adviser', 4), ('public official', 1), ('former governor of new york', 1), ('documentary filmmaker', 3), ('former governor of new mexico', 3), ('0', 4), ('assistant to the president for communications', 1), ('former governor of montans', 1), ('us assistant attorney', 1), ('military officer', 2), ('former president', 3), ('music producer', 1), ('attorney', 6), ('former governor of vermont', 5), ('former us secretary of defense', 2), ('psychic', 1), ('doctor', 1), ('former governor of rhode island', 1), ('united states secretary of agriculture', 1), ('high-altitude mountaineer', 1), ('astronaut', 2), ('film critic', 1), ('inspector general of homeland security department', 1), ('professional road racing cyclist', 2), ('former us secretary of education', 1), ('telvision actor', 1), ('former white house counsel', 1), ('academic', 6), ('former member of the united states senate', 1), ('american football wide reciever', 1), ('busines magnate', 3), ('astrophysicist', 9), ('law professor', 4), ('american football running back', 1), ('psychologist', 1), ('minister of defense', 1), ('political consultant', 1), ('advocate', 1), ('freelance writer', 2), ('author of novels', 1), ('former us secretary of state', 4), ('neuroscientist', 1), ('presidnet', 3), ('university professor', 2), ('security expert', 1), ('former senator', 1), ('aviator', 1), ('united states secretary of the navy', 1), ('innovator', 1), ('tennis player', 1), ('former director of the national economic counscil', 1), ('former associate justice of the supreme court of the united states', 2), ('former director of the office of management and budget', 1), ('first lady of egypt', 1), ('minority leader of the united states house of representatives', 4), ('epa administrator', 3), ('racing driver', 1), ('former united states secretary of the interior', 1), ('swimmer', 1), ('former governor of illinois', 2), ('former u.s. congressman', 2), ('comptroller of the us', 1), ('track and field athlete', 1), ('former governor of washington', 1), ('aei president', 1), ('soccer manager', 2), ('geneticist', 1), ('king', 2), ('internet entrepreneur', 1), ('physicist', 1), ('legal analyst', 6), ('peace activist', 1), ('us official', 1), ('photojournalist', 2), ('former secretary of defense', 1), ('admiral', 2), ('prince', 1), ('united states senate member', 4), ('former governor of massachusetts', 1), ('celbrity chef', 1), ('hip-hop artist', 2), ('former governor of indiana', 1), ('former governor of michigan', 1), ('former governor of california', 1), ('chess player', 1), ('governor of new jersey', 1), ('us secetary of education', 1), ('bassist', 1), ('former president of the maldives', 1), ('mayor of london', 1), ('television series creator', 3), ('associate justice of the supreme court of the united states', 1), ('afghan politician', 1), ('educator', 1), ('attorney at law', 1), ('executive', 2), ('speechwriter', 1), ('fiction writer', 1), ('director of the consumer financial protection bureau', 1), ('former cia director', 1), ('illustrator', 1), ('non profit director', 1), ('television writer', 1), ('nyc mayor', 2), ('administrator', 1), ('chief technology officer of united states', 1), ('former united states secretary of the treasury', 1), ('composer', 1), ('tv producer', 1), ('former mayor of san antonio', 1), ('legal scholar', 1), ('film producer', 1), ('us secretary of energy', 1), ('googleknowlege_occupation', 1), ('comedian', 103), ('television actress', 13), ('singer-lyricist', 2), ('singer-songwriter', 33), ('rock band', 14), ('na', 26), ('pianist', 1), ('writer', 52), ('television host', 39), ('televison actor', 1), ('director', 9), ('activist', 14), ('media person', 1), ('former us senator', 19), ('filmmaker', 15), ('former senator from kansas', 1), ('reporter', 10), ('professional wrestler', 3), ('publisher', 1), ('former press secretary', 1), ('game show host', 1), ('guitarist', 3), ('former governor of nebraska', 4), ('boxer', 1), ('chef', 5), ('professor', 37), ('television presenter', 3), ('lawyer', 19), ('political satirist', 4), ('author', 152), ('telvision personality', 1), ('former united states deputy secretary of state', 1), ('news anchor', 5), ('columnist', 13), ('television actor', 3), ('bass guitarist', 1), ('stunt perfomrer', 5), ('pop group', 1), ('broadcaster', 18), ('rock duo', 4), ('novelist', 6), ('former american senator', 4), ('former us representativ', 1), ('former mayor of new york city', 2), ('former national security advisio\\\\r', 1), ('historian', 22), ('radio host', 3), ('pastor', 1), ('former majority leader', 2), ('neurosurgeon', 2), ('former white house press secretary', 12), ('-', 1), ('puzzle creator', 1), ('united states senator', 15), ('scientist', 2), ('vice president', 2), ('political scientist', 6), ('former governor of new jersey', 4), ('us representative', 9), ('civil rights activist', 1), ('social activist', 1), ('businessman', 5), ('baseball player', 8), ('business magnate', 6), ('american political figure', 2), ('physician', 4), ('governor of virginia', 2), ('secretary of state', 1), ('us president', 10), ('biographer', 9), ('american football wide receiver', 2), ('former speaker of the the house', 2), ('consultant', 8), ('foreign policy strategist', 1), ('economist', 17), ('philosopher', 2), ('former united states senator', 6), ('former governor of pennsylvania', 2), ('scholar', 3), ('mathematician', 1), ('intellectual', 1), ('former governor of missouri', 1), ('former white house chief of staff', 2), ('entrepreneur', 3), ('mayor of chicago', 1), ('communications consultant', 1), ('israeli official', 1), ('military', 10), ('political expert', 1), ('race car driver', 1), ('documentarian', 2), ('former president of pakistan', 2), ('former governor of arkansas', 9), ('former president of mexico', 1), ('former united states national security advisor', 1), ('surgeon', 3), ('film-maker', 1), ('former united states secretary of education', 1), ('pundit', 1), ('cartoonist', 1), ('president', 6), ('first lady of the united states', 1), ('political advocate', 2), ('us secretary of defense', 1), ('former u.s. senator', 2), ('humorist', 3), ('former british prime minister', 3), ('canon', 2), ('former governor of arizona', 1), ('public speaker', 1), ('primatologist', 2), ('political strategist', 1), ('united states ambassador to the united nations', 3), ('former united states secretary of transportation', 1), ('former governor of new hampshire', 1), ('baseball athlete', 1), ('president of liberia', 1), ('neurologist', 1), ('financier', 1), ('former hhs secretary', 3), ('former united states secretary of energy', 1), ('sports columnist', 1), ('former mjority leader', 1), ('former governor of texas', 1), ('investment banker', 1), ('accountant', 1), ('former mayor of cincinnati', 1), ('former first lady of the united states', 1), ('former governor of minnesota', 2), ('former senior advisor to the presidnet', 2), ('puppeteer', 1), ('former lieutenant governor of maryland', 3), ('former mayor of new orleans', 1), ('former governor of louisiana', 1), ('statistician', 3), ('fbi agent', 1), ('united states secretary of housing and urban development', 1), ('business person', 1), ('first lady', 1), ('character', 1), ('us permanent representative to nato', 1), ('priest', 1), ('satirist', 3), ('beach volleyball player', 1), ('product line', 1), ('armed forces officer', 2), ('police officer', 1), ('football coach', 1), ('former omb director', 1), ('basketball coach', 1), ('drummer', 1), ('coorespondant', 1), ('ethologist', 1), ('united nations official', 1), ('television director', 1), ('united states secretary of defense', 1), ('rnc chairman', 1), ('white house official', 1), ('futurist', 1), ('choreographer', 1), ('foreign policy analyst', 1), ('coach', 1), ('talk show host', 2), ('non profit worker', 1), ('syrian politician', 1), ('orca trainer', 1), ('ice hockey coach', 1), ('first minister of scotland', 1)]\n"
     ]
    }
   ],
   "source": [
    "#-Student Code-#\n",
    "print (filtered_daily.collect())"
   ]
  },
  {
   "cell_type": "markdown",
   "metadata": {},
   "source": [
    "# 2. WordCount Exercise\n"
   ]
  },
  {
   "cell_type": "code",
   "execution_count": 24,
   "metadata": {},
   "outputs": [
    {
     "name": "stdout",
     "output_type": "stream",
     "text": [
      "A CHRISTMAS CAROL\r\n",
      "\r\n",
      "IN PROSE\r\n",
      "BEING\r\n",
      "A Ghost Story of Christmas\r\n",
      "\r\n",
      "by Charles Dickens\r\n",
      "\r\n",
      "\r\n",
      "\r\n"
     ]
    }
   ],
   "source": [
    "# We will perform word count using Spark with Christmas Carol Text\n",
    "# If you are working with the notebook on your local computer instead \n",
    "# of EC2 you can download the text from https://www.gutenberg.org/files/46/46-h/46-h.htm\n",
    "# We look at first 10 lines\n",
    "!head -10 christmas.txt"
   ]
  },
  {
   "cell_type": "markdown",
   "metadata": {},
   "source": [
    "**Perform some actions on Christmas Carol RDD***"
   ]
  },
  {
   "cell_type": "code",
   "execution_count": 25,
   "metadata": {},
   "outputs": [
    {
     "name": "stdout",
     "output_type": "stream",
     "text": [
      "4208\n",
      "A CHRISTMAS CAROL\n",
      "['A CHRISTMAS CAROL', '', 'IN PROSE', 'BEING', 'A Ghost Story of Christmas', '', 'by Charles Dickens', '', '', '']\n"
     ]
    }
   ],
   "source": [
    "# Create a textfile RDD\n",
    "christmas = sc.textFile(\"christmas.txt\")\n",
    "\n",
    "#simple actions on the RDD\n",
    "print(christmas.count())\n",
    "print(christmas.first())\n",
    "print(christmas.take(10))"
   ]
  },
  {
   "cell_type": "markdown",
   "metadata": {},
   "source": [
    "**Question 3 (10 pts)**\n",
    "Use Spark, get the 20 most common \"lowercased\" words (don't count stopwords)\n",
    "\n",
    "Hint: Suggested Pseudocode, you're welcome to do your own\n",
    "\n",
    "1. Define a function \"findWord\" that takes a line as input and return the words & their counts (if stopwords, don't count the word). Use assignment 4 solution the regex code and stopwords.\n",
    "\n",
    "2. define a count RDD as:\n",
    "    a. flatmap(find,Word)\n",
    "    b. aggregate by key, add count\n",
    "    c. switch key value pair to value,key pair\n",
    "    d. use transformation sortByKey\n",
    "3. collect the first 20 elements of the count RDD\n",
    "4. collect the last 20 elements of the count RDD"
   ]
  },
  {
   "cell_type": "code",
   "execution_count": 43,
   "metadata": {
    "collapsed": true
   },
   "outputs": [],
   "source": [
    "def findWord(line):\n",
    "    pattern = re.compile(r'\\b(' + r'|'.join(stopwords.words('english')) + r')\\b\\s*')\n",
    "    line = pattern.sub('',line)\n",
    "    line = line.split(' ')\n",
    "    word_count = {}\n",
    "    for word in line:\n",
    "        if word in word_count:\n",
    "            word_count[word]+=1\n",
    "        else:\n",
    "            word_count[word]=1\n",
    "    return word_count\n",
    "    "
   ]
  },
  {
   "cell_type": "code",
   "execution_count": 51,
   "metadata": {},
   "outputs": [],
   "source": [
    "find_word=christmas.sflatMap(lambda x: findWord(x))"
   ]
  },
  {
   "cell_type": "code",
   "execution_count": 61,
   "metadata": {},
   "outputs": [],
   "source": [
    "christmas_split=christmas.map(lambda line: line.split(',')).flatMap(lambda line: findWord(line))"
   ]
  },
  {
   "cell_type": "code",
   "execution_count": 77,
   "metadata": {},
   "outputs": [],
   "source": [
    "christmas_wrd_cnt=christmas.flatMap(lambda line: line.split()).map(lambda w: (w,1)).reduceByKey(lambda v1, v2 :v1+v2).sortByKey(1).collect()"
   ]
  },
  {
   "cell_type": "code",
   "execution_count": 78,
   "metadata": {},
   "outputs": [
    {
     "data": {
      "text/plain": [
       "[('\"\\'And', 1),\n",
       " ('\"A', 14),\n",
       " ('\"Ah!\"', 1),\n",
       " ('\"All', 1),\n",
       " ('\"Always', 1),\n",
       " ('\"Am', 2),\n",
       " ('\"An', 1),\n",
       " ('\"And', 14),\n",
       " ('\"Are', 6),\n",
       " ('\"As', 1),\n",
       " ('\"Ask', 1),\n",
       " ('\"At', 3),\n",
       " ('\"Bad,\"', 1),\n",
       " ('\"Bah!\"', 2),\n",
       " ('\"Bear', 1),\n",
       " ('\"Because', 3),\n",
       " ('\"Because,\"', 1),\n",
       " ('\"Bed-curtains!\"', 2),\n",
       " ('\"Before', 1),\n",
       " ('\"Belle,\"', 1)]"
      ]
     },
     "execution_count": 78,
     "metadata": {},
     "output_type": "execute_result"
    }
   ],
   "source": [
    "christmas_wrd_cnt[:20]"
   ]
  },
  {
   "cell_type": "code",
   "execution_count": 79,
   "metadata": {},
   "outputs": [
    {
     "data": {
      "text/plain": [
       "[('you.', 8),\n",
       " ('you.\"', 2),\n",
       " ('you:', 1),\n",
       " ('you;', 2),\n",
       " ('you?', 3),\n",
       " ('you?\"', 7),\n",
       " ('young', 25),\n",
       " ('young)', 1),\n",
       " ('young.', 1),\n",
       " ('younger', 3),\n",
       " ('youngest', 1),\n",
       " ('your', 54),\n",
       " ('yours', 1),\n",
       " ('yours,\"', 1),\n",
       " ('yours?\"', 1),\n",
       " ('yourself', 2),\n",
       " ('yourself,', 1),\n",
       " ('yourself?', 1),\n",
       " ('youth', 1),\n",
       " ('zeal.', 1)]"
      ]
     },
     "execution_count": 79,
     "metadata": {},
     "output_type": "execute_result"
    }
   ],
   "source": [
    "christmas_wrd_cnt[-20:]"
   ]
  },
  {
   "cell_type": "markdown",
   "metadata": {},
   "source": [
    "**Question 4 (10 pts)**\n",
    "Use Spark, get the 20 least common \"lowercased\" words (don't count stopwords)"
   ]
  },
  {
   "cell_type": "code",
   "execution_count": 84,
   "metadata": {},
   "outputs": [],
   "source": [
    "christmas_wrd_cnt=christmas.flatMap(lambda line: line.split()).map(lambda w: (w,1)).reduceByKey(lambda v1, v2 :v1+v2).sortByKey(2).collect()"
   ]
  },
  {
   "cell_type": "code",
   "execution_count": 85,
   "metadata": {},
   "outputs": [
    {
     "data": {
      "text/plain": [
       "[('\"\\'And', 1),\n",
       " ('\"A', 14),\n",
       " ('\"Ah!\"', 1),\n",
       " ('\"All', 1),\n",
       " ('\"Always', 1),\n",
       " ('\"Am', 2),\n",
       " ('\"An', 1),\n",
       " ('\"And', 14),\n",
       " ('\"Are', 6),\n",
       " ('\"As', 1),\n",
       " ('\"Ask', 1),\n",
       " ('\"At', 3),\n",
       " ('\"Bad,\"', 1),\n",
       " ('\"Bah!\"', 2),\n",
       " ('\"Bear', 1),\n",
       " ('\"Because', 3),\n",
       " ('\"Because,\"', 1),\n",
       " ('\"Bed-curtains!\"', 2),\n",
       " ('\"Before', 1),\n",
       " ('\"Belle,\"', 1)]"
      ]
     },
     "execution_count": 85,
     "metadata": {},
     "output_type": "execute_result"
    }
   ],
   "source": [
    "christmas_wrd_cnt[:20]"
   ]
  },
  {
   "cell_type": "markdown",
   "metadata": {},
   "source": [
    "**Question 5 (5pts)**\n",
    "Use Spark, only counts the words that start with a Uppercase letter and print out the top 10 of those words."
   ]
  },
  {
   "cell_type": "code",
   "execution_count": null,
   "metadata": {
    "collapsed": true
   },
   "outputs": [],
   "source": [
    "christmas_wrd_cnt[-20:0]"
   ]
  },
  {
   "cell_type": "code",
   "execution_count": null,
   "metadata": {
    "collapsed": true
   },
   "outputs": [],
   "source": [
    "# stop sparkcontext\n",
    "sc.stop()"
   ]
  },
  {
   "cell_type": "code",
   "execution_count": null,
   "metadata": {
    "collapsed": true
   },
   "outputs": [],
   "source": []
  }
 ],
 "metadata": {
  "kernelspec": {
   "display_name": "Python 3",
   "language": "python",
   "name": "python3"
  },
  "language_info": {
   "codemirror_mode": {
    "name": "ipython",
    "version": 3
   },
   "file_extension": ".py",
   "mimetype": "text/x-python",
   "name": "python",
   "nbconvert_exporter": "python",
   "pygments_lexer": "ipython3",
   "version": "3.6.3"
  }
 },
 "nbformat": 4,
 "nbformat_minor": 2
}
